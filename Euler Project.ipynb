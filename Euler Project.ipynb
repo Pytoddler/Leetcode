{
 "cells": [
  {
   "cell_type": "code",
   "execution_count": 1,
   "metadata": {
    "collapsed": true
   },
   "outputs": [],
   "source": [
    "import numpy as np \n",
    "import pandas as pd\n",
    "import matplotlib.pyplot as plt\n",
    "%matplotlib inline\n",
    "import time"
   ]
  },
  {
   "cell_type": "markdown",
   "metadata": {},
   "source": [
    "# Euler Project 解題原則(V)：1 min內給出答案，否則就要algorithm"
   ]
  },
  {
   "cell_type": "code",
   "execution_count": 5,
   "metadata": {
    "collapsed": false
   },
   "outputs": [
    {
     "name": "stdout",
     "output_type": "stream",
     "text": [
      "time: 9.298324584960938e-05\n"
     ]
    }
   ],
   "source": [
    "start = time.time()\n",
    "\n",
    "end = time.time()\n",
    "print('time:',end-start)"
   ]
  },
  {
   "cell_type": "markdown",
   "metadata": {},
   "source": [
    "# 1. Multiples of 3 and 5 (V)"
   ]
  },
  {
   "cell_type": "code",
   "execution_count": 5,
   "metadata": {
    "collapsed": false
   },
   "outputs": [
    {
     "name": "stdout",
     "output_type": "stream",
     "text": [
      "233168\n",
      "time: 0.0011260509490966797\n"
     ]
    }
   ],
   "source": [
    "start = time.time()\n",
    "\n",
    "multipliers = []\n",
    "\n",
    "for i in range(1000):\n",
    "    if i % 3 == 0 :\n",
    "        multipliers.append(i)\n",
    "    elif i % 5 == 0 :\n",
    "        multipliers.append(i)\n",
    "        \n",
    "print(np.sum(multipliers))\n",
    "\n",
    "end = time.time()\n",
    "print('time:',end-start)"
   ]
  },
  {
   "cell_type": "markdown",
   "metadata": {},
   "source": [
    "# 2. Even Fibonacci numbers (V)"
   ]
  },
  {
   "cell_type": "code",
   "execution_count": 7,
   "metadata": {
    "collapsed": false
   },
   "outputs": [
    {
     "name": "stdout",
     "output_type": "stream",
     "text": [
      "None\n",
      "1\n",
      "2\n",
      "3\n",
      "5\n",
      "8\n",
      "13\n",
      "21\n",
      "34\n",
      "55\n"
     ]
    }
   ],
   "source": [
    "def fib(n):\n",
    "    if n == 1:\n",
    "        return 1\n",
    "    if n == 2:\n",
    "        return 2\n",
    "    if n > 2:\n",
    "        return fib(n-1) + fib(n-2)\n",
    "    \n",
    "for i in range(10):\n",
    "    print(fib(i))"
   ]
  },
  {
   "cell_type": "code",
   "execution_count": 11,
   "metadata": {
    "collapsed": false
   },
   "outputs": [
    {
     "name": "stdout",
     "output_type": "stream",
     "text": [
      "4613732\n",
      "time: 10.639003992080688\n"
     ]
    }
   ],
   "source": [
    "start = time.time()\n",
    "\n",
    "i = 1\n",
    "fib_list = []\n",
    "\n",
    "while fib(i) <= 4000000:\n",
    "    fib_list.append(fib(i))\n",
    "    i += 1\n",
    "    \n",
    "even_num = []\n",
    "for num in fib_list:\n",
    "    if num % 2 == 0:\n",
    "        even_num.append(num)\n",
    "\n",
    "print(np.sum(even_num))\n",
    "\n",
    "end = time.time()\n",
    "print('time:',end-start)"
   ]
  },
  {
   "cell_type": "code",
   "execution_count": 10,
   "metadata": {
    "collapsed": false
   },
   "outputs": [
    {
     "name": "stdout",
     "output_type": "stream",
     "text": [
      "4613732\n",
      "time: 10.462073802947998\n"
     ]
    }
   ],
   "source": [
    "start = time.time()\n",
    "\n",
    "i = 1\n",
    "fib_list = []\n",
    "sum = 0\n",
    "\n",
    "while fib(i) <= 4000000:\n",
    "    if fib(i) % 2 == 0:\n",
    "        sum += fib(i)\n",
    "    i += 1\n",
    "        \n",
    "print(sum)\n",
    "\n",
    "end = time.time()\n",
    "print('time:',end-start)"
   ]
  },
  {
   "cell_type": "markdown",
   "metadata": {},
   "source": [
    "# 3. Largest prime factor (V): 注意if a and b，a的條件要比較快速篩檢～"
   ]
  },
  {
   "cell_type": "code",
   "execution_count": 22,
   "metadata": {
    "collapsed": false,
    "scrolled": true
   },
   "outputs": [
    {
     "name": "stdout",
     "output_type": "stream",
     "text": [
      "29\n"
     ]
    }
   ],
   "source": [
    "def prime(num):\n",
    "    if num == 1:\n",
    "        return False\n",
    "    \n",
    "    if num == 2:\n",
    "        return True\n",
    "    \n",
    "    if num > 2 :\n",
    "        i = 2\n",
    "        \n",
    "        while i <= np.sqrt(num):\n",
    "            if num % i == 0:\n",
    "                return False\n",
    "            i += 1\n",
    "        return True\n",
    "\n",
    "n = 13195\n",
    "primes = []\n",
    "\n",
    "for i in range(n):\n",
    "    if prime(i):\n",
    "        primes.append(i)\n",
    "\n",
    "prime_facts = []\n",
    "for prime in primes:\n",
    "    if n % prime == 0:\n",
    "        prime_facts.append(prime)\n",
    "        \n",
    "print(prime_facts[-1])"
   ]
  },
  {
   "cell_type": "code",
   "execution_count": 25,
   "metadata": {
    "collapsed": false
   },
   "outputs": [
    {
     "name": "stdout",
     "output_type": "stream",
     "text": [
      "29\n"
     ]
    }
   ],
   "source": [
    "def prime(num):\n",
    "    if num == 1:\n",
    "        return False\n",
    "    \n",
    "    if num == 2:\n",
    "        return True\n",
    "    \n",
    "    if num > 2 :\n",
    "        i = 2\n",
    "        \n",
    "        while i <= np.sqrt(num):\n",
    "            if num % i == 0:\n",
    "                return False\n",
    "            i += 1\n",
    "        return True\n",
    "\n",
    "n = 13195\n",
    "primes = []\n",
    "\n",
    "for i in range(int(np.sqrt(n))):  #找到開根號就好了\n",
    "    if prime(i):\n",
    "        primes.append(i)\n",
    "\n",
    "#想從大的除，除到第一個就答案\n",
    "primes_reverse = reversed(primes)\n",
    "for prime in primes_reverse:\n",
    "    if n % prime == 0:\n",
    "        print(prime)\n",
    "        break"
   ]
  },
  {
   "cell_type": "code",
   "execution_count": 29,
   "metadata": {
    "collapsed": false
   },
   "outputs": [
    {
     "name": "stdout",
     "output_type": "stream",
     "text": [
      "29\n"
     ]
    }
   ],
   "source": [
    "def prime(num):\n",
    "    if num == 1:\n",
    "        return False\n",
    "    \n",
    "    if num == 2:\n",
    "        return True\n",
    "    \n",
    "    if num > 2 :\n",
    "        i = 2\n",
    "        \n",
    "        while i <= np.sqrt(num):\n",
    "            if num % i == 0:\n",
    "                return False\n",
    "            i += 1\n",
    "        return True\n",
    "\n",
    "n = 13195\n",
    "primes = []\n",
    "\n",
    "for i in range(int(np.sqrt(n)),2,-1):  #從開根號的由大到小往下找\n",
    "    if prime(i) and n % i == 0:\n",
    "        print(i)\n",
    "        break"
   ]
  },
  {
   "cell_type": "code",
   "execution_count": 26,
   "metadata": {
    "collapsed": false
   },
   "outputs": [
    {
     "name": "stdout",
     "output_type": "stream",
     "text": [
      "6857\n",
      "time: 212.6675670146942\n"
     ]
    }
   ],
   "source": [
    "start = time.time()\n",
    "\n",
    "def prime(num):\n",
    "    if num == 1:\n",
    "        return False\n",
    "    \n",
    "    if num == 2:\n",
    "        return True\n",
    "    \n",
    "    if num > 2 :\n",
    "        i = 2\n",
    "        \n",
    "        while i <= np.sqrt(num):\n",
    "            if num % i == 0:\n",
    "                return False\n",
    "            i += 1\n",
    "        return True\n",
    "\n",
    "n = 600851475143\n",
    "primes = []\n",
    "\n",
    "for i in range(int(np.sqrt(n))): #只需要找到sqrt(n)的大小的質數就可以了\n",
    "    if prime(i):\n",
    "        primes.append(i)\n",
    "\n",
    "#想從大的除，除到第一個就答案\n",
    "primes_reverse = reversed(primes)\n",
    "for prime in primes_reverse:\n",
    "    if n % prime == 0:\n",
    "        print(prime)\n",
    "        break\n",
    "\n",
    "end = time.time()\n",
    "print('time:',end-start)"
   ]
  },
  {
   "cell_type": "code",
   "execution_count": 31,
   "metadata": {
    "collapsed": false
   },
   "outputs": [
    {
     "name": "stdout",
     "output_type": "stream",
     "text": [
      "6857\n",
      "time: 0.19164109230041504\n"
     ]
    }
   ],
   "source": [
    "start = time.time()\n",
    "\n",
    "def prime(num):\n",
    "    if num == 1:\n",
    "        return False\n",
    "    \n",
    "    if num == 2:\n",
    "        return True\n",
    "    \n",
    "    if num > 2 :\n",
    "        i = 2\n",
    "        \n",
    "        while i <= np.sqrt(num):\n",
    "            if num % i == 0:\n",
    "                return False\n",
    "                break\n",
    "            i += 1\n",
    "        return True\n",
    "\n",
    "n = 600851475143\n",
    "primes = []\n",
    "\n",
    "for i in range(int(np.sqrt(n)),2,-1):  #從開根號的由大到小往下找，邊找邊除，除到第一個就答案\n",
    "    if n % i == 0 and prime(i): #if A and B 和 if B and A不一樣，順序一對調，馬上秒殺！！\n",
    "        print(i)\n",
    "        break\n",
    "\n",
    "end = time.time()\n",
    "print('time:',end-start)"
   ]
  },
  {
   "cell_type": "markdown",
   "metadata": {},
   "source": [
    "# 4. Largest palindrome product (V)"
   ]
  },
  {
   "cell_type": "code",
   "execution_count": 36,
   "metadata": {
    "collapsed": false
   },
   "outputs": [
    {
     "name": "stdout",
     "output_type": "stream",
     "text": [
      "580085\n",
      "906609\n",
      "886688\n",
      "888888\n",
      "906609\n",
      "time: 0.015867948532104492\n"
     ]
    }
   ],
   "source": [
    "start = time.time()\n",
    "\n",
    "def palindromic(num):\n",
    "    s = str(num)\n",
    "    for i in range(len(s)//2):\n",
    "        if s[i] != s[len(s)-i-1]:\n",
    "            return False\n",
    "    return True\n",
    "    \n",
    "palin_list = []\n",
    "j_max = 100 #最小值就是100\n",
    "    \n",
    "for i in range(999,j_max,-1):   #從999由大到小找\n",
    "    for j in range(i,j_max,-1):   #從i的數值由大到小找到j_max為止，然後就break，因為再往下只會更小而已\n",
    "        if palindromic(i*j):\n",
    "            #print(i*j)\n",
    "            palin_list.append(i*j)\n",
    "            \n",
    "            if j > j_max:\n",
    "                j_max = j\n",
    "            \n",
    "            break\n",
    "\n",
    "print(np.max(palin_list))\n",
    "\n",
    "end = time.time()\n",
    "print('time:',end-start)"
   ]
  },
  {
   "cell_type": "markdown",
   "metadata": {},
   "source": [
    "# 5. Smallest multiple"
   ]
  },
  {
   "cell_type": "code",
   "execution_count": 66,
   "metadata": {
    "collapsed": false
   },
   "outputs": [
    {
     "name": "stdout",
     "output_type": "stream",
     "text": [
      "2520\n"
     ]
    }
   ],
   "source": [
    "def divisible(num, n):\n",
    "    for i in range(1, n+1, 1):\n",
    "        if num%i != 0:\n",
    "            return False\n",
    "    return True\n",
    "        \n",
    "num = 1\n",
    "n = 10\n",
    "\n",
    "while True:\n",
    "    if divisible(num, 10):\n",
    "        print(num)\n",
    "        break\n",
    "    else:\n",
    "        num +=1"
   ]
  },
  {
   "cell_type": "markdown",
   "metadata": {},
   "source": [
    "## 質因數分解"
   ]
  },
  {
   "cell_type": "code",
   "execution_count": 28,
   "metadata": {
    "collapsed": false
   },
   "outputs": [
    {
     "name": "stdout",
     "output_type": "stream",
     "text": [
      "[]\n",
      "[2]\n",
      "[3]\n",
      "[2, 2]\n",
      "[5]\n",
      "[2, 3]\n",
      "[7]\n",
      "[2, 2, 2]\n",
      "[3, 3]\n",
      "[2, 5]\n",
      "[11]\n",
      "[2, 2, 3]\n",
      "[13]\n",
      "[2, 7]\n",
      "[3, 5]\n",
      "[2, 2, 2, 2]\n",
      "[17]\n",
      "[2, 3, 3]\n",
      "[19]\n",
      "[2, 2, 5]\n"
     ]
    }
   ],
   "source": [
    "def Is_prime(num):\n",
    "    if num == 1:\n",
    "        return False\n",
    "    \n",
    "    if num == 2:\n",
    "        return True\n",
    "    \n",
    "    if num > 2 :\n",
    "        i = 2\n",
    "        \n",
    "        while i <= np.sqrt(num):\n",
    "            if num % i == 0:\n",
    "                return False\n",
    "            i += 1\n",
    "        return True\n",
    "\n",
    "# n是我們要分解的數字\n",
    "def GetChildren(n):\n",
    "    \n",
    "    primes = []\n",
    "    for i in range(n+1):\n",
    "        if Is_prime(i):\n",
    "            primes.append(i) \n",
    "    \n",
    "    facts = []\n",
    "    for prime in primes:\n",
    "        while n % prime == 0:\n",
    "            facts.append(prime)\n",
    "            n = n / prime\n",
    "            \n",
    "    return facts\n",
    "\n",
    "for i in range(1,21,1):\n",
    "    print(GetChildren(i))"
   ]
  },
  {
   "cell_type": "code",
   "execution_count": 29,
   "metadata": {
    "collapsed": false
   },
   "outputs": [
    {
     "data": {
      "text/plain": [
       "232792560"
      ]
     },
     "execution_count": 29,
     "metadata": {},
     "output_type": "execute_result"
    }
   ],
   "source": [
    "(2**4)*(3**2)*(5)*7*11*13*17*19 #土法煉鋼XDD"
   ]
  },
  {
   "cell_type": "markdown",
   "metadata": {},
   "source": [
    "# 6. Sum square difference (V)"
   ]
  },
  {
   "cell_type": "code",
   "execution_count": 40,
   "metadata": {
    "collapsed": false
   },
   "outputs": [
    {
     "name": "stdout",
     "output_type": "stream",
     "text": [
      "25164150\n",
      "time: 0.0005359649658203125\n"
     ]
    }
   ],
   "source": [
    "start = time.time()\n",
    "\n",
    "\n",
    "n = 100\n",
    "sum_a = 0\n",
    "tmp = 0\n",
    "\n",
    "for i in range(1,n+1,1):\n",
    "    sum_a += i**2\n",
    "    \n",
    "for i in range(1,n+1,1):\n",
    "    tmp += i\n",
    "    \n",
    "sum_b = tmp**2\n",
    "\n",
    "print(sum_b-sum_a)\n",
    "\n",
    "\n",
    "end = time.time()\n",
    "print('time:', end-start)"
   ]
  },
  {
   "cell_type": "markdown",
   "metadata": {},
   "source": [
    "# 7. 10001st prime (V)"
   ]
  },
  {
   "cell_type": "code",
   "execution_count": 39,
   "metadata": {
    "collapsed": false
   },
   "outputs": [
    {
     "name": "stdout",
     "output_type": "stream",
     "text": [
      "104743\n",
      "time: 10.027915000915527\n"
     ]
    }
   ],
   "source": [
    "start = time.time()\n",
    "\n",
    "def Is_prime(num):\n",
    "    if num == 1:\n",
    "        return False\n",
    "    \n",
    "    if num == 2:\n",
    "        return True\n",
    "    \n",
    "    if num > 2 :\n",
    "        i = 2\n",
    "        \n",
    "        while i <= np.sqrt(num):\n",
    "            if num % i == 0:\n",
    "                return False\n",
    "            i += 1\n",
    "        return True\n",
    "    \n",
    "\n",
    "count = 0\n",
    "n = 2\n",
    "primes = []\n",
    "\n",
    "while count<10001:\n",
    "    if Is_prime(n):\n",
    "        primes.append(n)\n",
    "        count += 1\n",
    "        n += 1\n",
    "    else:\n",
    "        n += 1\n",
    "\n",
    "print(primes[-1])\n",
    "\n",
    "end = time.time()\n",
    "print('time:', end-start)"
   ]
  },
  {
   "cell_type": "markdown",
   "metadata": {},
   "source": [
    "# 8. Largest product in a series (V)"
   ]
  },
  {
   "cell_type": "code",
   "execution_count": 38,
   "metadata": {
    "collapsed": false
   },
   "outputs": [
    {
     "name": "stdout",
     "output_type": "stream",
     "text": [
      "23514624000\n",
      "time: 0.004901885986328125\n"
     ]
    }
   ],
   "source": [
    "start = time.time()\n",
    "\n",
    "digits = '7316717653133062491922511967442657474235534919493496983520312774506326239578318016984801869478851843858615607891129494954595017379583319528532088055111254069874715852386305071569329096329522744304355766896648950445244523161731856403098711121722383113622298934233803081353362766142828064444866452387493035890729629049156044077239071381051585930796086670172427121883998797908792274921901699720888093776657273330010533678812202354218097512545405947522435258490771167055601360483958644670632441572215539753697817977846174064955149290862569321978468622482839722413756570560574902614079729686524145351004748216637048440319989000889524345065854122758866688116427171479924442928230863465674813919123162824586178664583591245665294765456828489128831426076900422421902267105562632111110937054421750694165896040807198403850962455444362981230987879927244284909188845801561660979191338754992005240636899125607176060588611646710940507754100225698315520005593572972571636269561882670428252483600823257530420752963450'\n",
    "int_digits = []\n",
    "\n",
    "for digit in digits:\n",
    "    int_digits.append(int(digit))\n",
    "\n",
    "prod_sum = []    \n",
    "\n",
    "for i in range(len(int_digits)-12):\n",
    "    prod_sum.append(int_digits[i]*int_digits[i+1]*int_digits[i+2]*int_digits[i+3]*int_digits[i+4]*int_digits[i+5]*int_digits[i+6]*int_digits[i+7]*int_digits[i+8]*int_digits[i+9]*int_digits[i+10]*int_digits[i+11]*int_digits[i+12])\n",
    "    \n",
    "print(np.max(prod_sum))\n",
    "\n",
    "end = time.time()\n",
    "print('time:', end-start)"
   ]
  },
  {
   "cell_type": "markdown",
   "metadata": {},
   "source": [
    "# 9. Special Pythagorean triplet"
   ]
  },
  {
   "cell_type": "code",
   "execution_count": 53,
   "metadata": {
    "collapsed": false
   },
   "outputs": [
    {
     "name": "stdout",
     "output_type": "stream",
     "text": [
      "200 375 425\n",
      "31875000\n",
      "time: 0.30846095085144043\n"
     ]
    }
   ],
   "source": [
    "start = time.time()\n",
    "\n",
    "for i in range(1, int(1000/3)):\n",
    "    for j in range(i,1000-i-i): #可想而知i一定是最小的，所以做到1000-i-i就可以了\n",
    "        if i**2 + j**2 == (1000-i-j)**2:\n",
    "            print(i,j,1000-i-j)\n",
    "            print(i*j*(1000-i-j))\n",
    "            \n",
    "end = time.time()\n",
    "print('time:', end-start)"
   ]
  },
  {
   "cell_type": "markdown",
   "metadata": {},
   "source": [
    "# 10. Summation of primes (V) 才疏學淺，沒想到最快速質數方法博大精深"
   ]
  },
  {
   "cell_type": "code",
   "execution_count": 62,
   "metadata": {
    "collapsed": false
   },
   "outputs": [
    {
     "ename": "KeyboardInterrupt",
     "evalue": "",
     "output_type": "error",
     "traceback": [
      "\u001b[0;31m---------------------------------------------------------------------------\u001b[0m",
      "\u001b[0;31mKeyboardInterrupt\u001b[0m                         Traceback (most recent call last)",
      "\u001b[0;32m<ipython-input-62-c604cf834152>\u001b[0m in \u001b[0;36m<module>\u001b[0;34m()\u001b[0m\n\u001b[1;32m     23\u001b[0m \u001b[0;34m\u001b[0m\u001b[0m\n\u001b[1;32m     24\u001b[0m \u001b[0;32mfor\u001b[0m \u001b[0mi\u001b[0m \u001b[0;32min\u001b[0m \u001b[0mrange\u001b[0m\u001b[0;34m(\u001b[0m\u001b[0mn\u001b[0m\u001b[0;34m+\u001b[0m\u001b[0;36m1\u001b[0m\u001b[0;34m)\u001b[0m\u001b[0;34m:\u001b[0m\u001b[0;34m\u001b[0m\u001b[0m\n\u001b[0;32m---> 25\u001b[0;31m     \u001b[0;32mif\u001b[0m \u001b[0mprime\u001b[0m\u001b[0;34m(\u001b[0m\u001b[0mi\u001b[0m\u001b[0;34m)\u001b[0m\u001b[0;34m:\u001b[0m\u001b[0;34m\u001b[0m\u001b[0m\n\u001b[0m\u001b[1;32m     26\u001b[0m         \u001b[0msum\u001b[0m \u001b[0;34m+=\u001b[0m \u001b[0mi\u001b[0m\u001b[0;34m\u001b[0m\u001b[0m\n\u001b[1;32m     27\u001b[0m \u001b[0;34m\u001b[0m\u001b[0m\n",
      "\u001b[0;32m<ipython-input-62-c604cf834152>\u001b[0m in \u001b[0;36mprime\u001b[0;34m(num)\u001b[0m\n\u001b[1;32m     12\u001b[0m \u001b[0;34m\u001b[0m\u001b[0m\n\u001b[1;32m     13\u001b[0m         \u001b[0;32mwhile\u001b[0m \u001b[0mi\u001b[0m \u001b[0;34m<=\u001b[0m \u001b[0mnp\u001b[0m\u001b[0;34m.\u001b[0m\u001b[0msqrt\u001b[0m\u001b[0;34m(\u001b[0m\u001b[0mnum\u001b[0m\u001b[0;34m)\u001b[0m\u001b[0;34m:\u001b[0m\u001b[0;34m\u001b[0m\u001b[0m\n\u001b[0;32m---> 14\u001b[0;31m             \u001b[0;32mif\u001b[0m \u001b[0mnum\u001b[0m \u001b[0;34m%\u001b[0m \u001b[0mi\u001b[0m \u001b[0;34m==\u001b[0m \u001b[0;36m0\u001b[0m\u001b[0;34m:\u001b[0m\u001b[0;34m\u001b[0m\u001b[0m\n\u001b[0m\u001b[1;32m     15\u001b[0m                 \u001b[0;32mreturn\u001b[0m \u001b[0;32mFalse\u001b[0m\u001b[0;34m\u001b[0m\u001b[0m\n\u001b[1;32m     16\u001b[0m                 \u001b[0;32mbreak\u001b[0m\u001b[0;34m\u001b[0m\u001b[0m\n",
      "\u001b[0;31mKeyboardInterrupt\u001b[0m: "
     ]
    }
   ],
   "source": [
    "start = time.time()\n",
    "\n",
    "def prime(num):\n",
    "    if num == 1:\n",
    "        return False\n",
    "    \n",
    "    if num == 2:\n",
    "        return True\n",
    "    \n",
    "    if num > 2 :\n",
    "        i = 2\n",
    "        \n",
    "        while i <= np.sqrt(num):\n",
    "            if num % i == 0:\n",
    "                return False\n",
    "                break\n",
    "            i += 1\n",
    "        return True\n",
    "\n",
    "n = 2000000\n",
    "primes = []\n",
    "sum = 0\n",
    "\n",
    "for i in range(n+1):\n",
    "    if prime(i):\n",
    "        sum += i #是prime就加到sum裡面去\n",
    "        \n",
    "print(sum)\n",
    "\n",
    "end = time.time()\n",
    "print('time:', end-start)"
   ]
  },
  {
   "cell_type": "code",
   "execution_count": 65,
   "metadata": {
    "collapsed": false
   },
   "outputs": [
    {
     "name": "stdout",
     "output_type": "stream",
     "text": [
      "142913828922\n",
      "time: 1.422727108001709\n"
     ]
    }
   ],
   "source": [
    "## 網路上最快的找<n的質數方法\n",
    "start = time.time()\n",
    "\n",
    "def get_primes(n):\n",
    "    numbers = set(range(n, 1, -1))\n",
    "    primes = []\n",
    "    while numbers:\n",
    "        p = numbers.pop()\n",
    "        primes.append(p)\n",
    "        numbers.difference_update(set(range(p*2, n+1, p)))\n",
    "    return primes\n",
    "\n",
    "n = 2000000\n",
    "print(np.sum(get_primes(n)))\n",
    "\n",
    "end = time.time()\n",
    "print('time:', end-start)"
   ]
  },
  {
   "cell_type": "code",
   "execution_count": 61,
   "metadata": {
    "collapsed": false
   },
   "outputs": [
    {
     "data": {
      "text/plain": [
       "17"
      ]
     },
     "execution_count": 61,
     "metadata": {},
     "output_type": "execute_result"
    }
   ],
   "source": [
    "def prime(num):\n",
    "    if num == 1:\n",
    "        return False\n",
    "    \n",
    "    if num == 2:\n",
    "        return True\n",
    "    \n",
    "    if num > 2 :\n",
    "        i = 2\n",
    "        \n",
    "        while i <= np.sqrt(num):\n",
    "            if num % i == 0:\n",
    "                return False\n",
    "            i += 1\n",
    "        return True\n",
    "\n",
    "n = 10\n",
    "primes = []\n",
    "\n",
    "for i in range(n+1):\n",
    "    if prime(i):\n",
    "        primes.append(i)\n",
    "        \n",
    "np.sum(primes)"
   ]
  },
  {
   "cell_type": "markdown",
   "metadata": {},
   "source": [
    "# 11. Largest product in a grid"
   ]
  },
  {
   "cell_type": "markdown",
   "metadata": {},
   "source": [
    "# 12. Highly divisible triangular number (X) 答案會對，但執行時間過長..."
   ]
  },
  {
   "cell_type": "code",
   "execution_count": 69,
   "metadata": {
    "collapsed": false
   },
   "outputs": [
    {
     "data": {
      "text/plain": [
       "4"
      ]
     },
     "execution_count": 69,
     "metadata": {},
     "output_type": "execute_result"
    }
   ],
   "source": [
    "#網路上最快的找<n的質數方法\n",
    "def get_primes(n):\n",
    "    numbers = set(range(n, 1, -1))\n",
    "    primes = []\n",
    "    while numbers:\n",
    "        p = numbers.pop()\n",
    "        primes.append(p)\n",
    "        numbers.difference_update(set(range(p*2, n+1, p)))\n",
    "    return primes\n",
    "\n",
    "#質因數分解\n",
    "def GetChildren(n):\n",
    "    facts = []\n",
    "    primes = get_primes(n)\n",
    "    for prime in primes:\n",
    "        while n % prime == 0:\n",
    "            facts.append(prime)\n",
    "            n = n / prime\n",
    "    return facts\n",
    "\n",
    "from collections import Counter\n",
    "\n",
    "#算出全部的因數個數\n",
    "def all_facts_num(n):\n",
    "    facts = GetChildren(n)\n",
    "    facts_matrix = Counter(facts).most_common()\n",
    "    \n",
    "    num = 1\n",
    "    for i in range(len(facts_matrix)):\n",
    "        num *=  (facts_matrix[i][1]+1)\n",
    "    return num\n",
    "\n",
    "all_facts_num(10)"
   ]
  },
  {
   "cell_type": "code",
   "execution_count": 67,
   "metadata": {
    "collapsed": false
   },
   "outputs": [
    {
     "name": "stdout",
     "output_type": "stream",
     "text": [
      "28\n"
     ]
    }
   ],
   "source": [
    "num = 1\n",
    "sum_ = 1\n",
    "\n",
    "while all_facts_num(sum_) <= 5:\n",
    "    num += 1\n",
    "    sum_ += num\n",
    "    #print(sum_)\n",
    "\n",
    "print(sum_)"
   ]
  },
  {
   "cell_type": "code",
   "execution_count": 72,
   "metadata": {
    "collapsed": false
   },
   "outputs": [
    {
     "ename": "KeyboardInterrupt",
     "evalue": "",
     "output_type": "error",
     "traceback": [
      "\u001b[0;31m---------------------------------------------------------------------------\u001b[0m",
      "\u001b[0;31mKeyboardInterrupt\u001b[0m                         Traceback (most recent call last)",
      "\u001b[0;32m<ipython-input-72-56ced76292ca>\u001b[0m in \u001b[0;36m<module>\u001b[0;34m()\u001b[0m\n\u001b[1;32m      4\u001b[0m \u001b[0msum_\u001b[0m \u001b[0;34m=\u001b[0m \u001b[0;36m1\u001b[0m\u001b[0;34m\u001b[0m\u001b[0m\n\u001b[1;32m      5\u001b[0m \u001b[0;34m\u001b[0m\u001b[0m\n\u001b[0;32m----> 6\u001b[0;31m \u001b[0;32mwhile\u001b[0m \u001b[0mall_facts_num\u001b[0m\u001b[0;34m(\u001b[0m\u001b[0msum_\u001b[0m\u001b[0;34m)\u001b[0m \u001b[0;34m<=\u001b[0m \u001b[0;36m500\u001b[0m\u001b[0;34m:\u001b[0m\u001b[0;34m\u001b[0m\u001b[0m\n\u001b[0m\u001b[1;32m      7\u001b[0m     \u001b[0mnum\u001b[0m \u001b[0;34m+=\u001b[0m \u001b[0;36m1\u001b[0m\u001b[0;34m\u001b[0m\u001b[0m\n\u001b[1;32m      8\u001b[0m     \u001b[0msum_\u001b[0m \u001b[0;34m+=\u001b[0m \u001b[0mnum\u001b[0m\u001b[0;34m\u001b[0m\u001b[0m\n",
      "\u001b[0;32m<ipython-input-69-b103af4018ab>\u001b[0m in \u001b[0;36mall_facts_num\u001b[0;34m(n)\u001b[0m\n\u001b[1;32m     23\u001b[0m \u001b[0;31m#算出全部的因數個數\u001b[0m\u001b[0;34m\u001b[0m\u001b[0;34m\u001b[0m\u001b[0m\n\u001b[1;32m     24\u001b[0m \u001b[0;32mdef\u001b[0m \u001b[0mall_facts_num\u001b[0m\u001b[0;34m(\u001b[0m\u001b[0mn\u001b[0m\u001b[0;34m)\u001b[0m\u001b[0;34m:\u001b[0m\u001b[0;34m\u001b[0m\u001b[0m\n\u001b[0;32m---> 25\u001b[0;31m     \u001b[0mfacts\u001b[0m \u001b[0;34m=\u001b[0m \u001b[0mGetChildren\u001b[0m\u001b[0;34m(\u001b[0m\u001b[0mn\u001b[0m\u001b[0;34m)\u001b[0m\u001b[0;34m\u001b[0m\u001b[0m\n\u001b[0m\u001b[1;32m     26\u001b[0m     \u001b[0mfacts_matrix\u001b[0m \u001b[0;34m=\u001b[0m \u001b[0mCounter\u001b[0m\u001b[0;34m(\u001b[0m\u001b[0mfacts\u001b[0m\u001b[0;34m)\u001b[0m\u001b[0;34m.\u001b[0m\u001b[0mmost_common\u001b[0m\u001b[0;34m(\u001b[0m\u001b[0;34m)\u001b[0m\u001b[0;34m\u001b[0m\u001b[0m\n\u001b[1;32m     27\u001b[0m \u001b[0;34m\u001b[0m\u001b[0m\n",
      "\u001b[0;32m<ipython-input-69-b103af4018ab>\u001b[0m in \u001b[0;36mGetChildren\u001b[0;34m(n)\u001b[0m\n\u001b[1;32m     12\u001b[0m \u001b[0;32mdef\u001b[0m \u001b[0mGetChildren\u001b[0m\u001b[0;34m(\u001b[0m\u001b[0mn\u001b[0m\u001b[0;34m)\u001b[0m\u001b[0;34m:\u001b[0m\u001b[0;34m\u001b[0m\u001b[0m\n\u001b[1;32m     13\u001b[0m     \u001b[0mfacts\u001b[0m \u001b[0;34m=\u001b[0m \u001b[0;34m[\u001b[0m\u001b[0;34m]\u001b[0m\u001b[0;34m\u001b[0m\u001b[0m\n\u001b[0;32m---> 14\u001b[0;31m     \u001b[0mprimes\u001b[0m \u001b[0;34m=\u001b[0m \u001b[0mget_primes\u001b[0m\u001b[0;34m(\u001b[0m\u001b[0mn\u001b[0m\u001b[0;34m)\u001b[0m\u001b[0;34m\u001b[0m\u001b[0m\n\u001b[0m\u001b[1;32m     15\u001b[0m     \u001b[0;32mfor\u001b[0m \u001b[0mprime\u001b[0m \u001b[0;32min\u001b[0m \u001b[0mprimes\u001b[0m\u001b[0;34m:\u001b[0m\u001b[0;34m\u001b[0m\u001b[0m\n\u001b[1;32m     16\u001b[0m         \u001b[0;32mwhile\u001b[0m \u001b[0mn\u001b[0m \u001b[0;34m%\u001b[0m \u001b[0mprime\u001b[0m \u001b[0;34m==\u001b[0m \u001b[0;36m0\u001b[0m\u001b[0;34m:\u001b[0m\u001b[0;34m\u001b[0m\u001b[0m\n",
      "\u001b[0;32m<ipython-input-69-b103af4018ab>\u001b[0m in \u001b[0;36mget_primes\u001b[0;34m(n)\u001b[0m\n\u001b[1;32m      6\u001b[0m         \u001b[0mp\u001b[0m \u001b[0;34m=\u001b[0m \u001b[0mnumbers\u001b[0m\u001b[0;34m.\u001b[0m\u001b[0mpop\u001b[0m\u001b[0;34m(\u001b[0m\u001b[0;34m)\u001b[0m\u001b[0;34m\u001b[0m\u001b[0m\n\u001b[1;32m      7\u001b[0m         \u001b[0mprimes\u001b[0m\u001b[0;34m.\u001b[0m\u001b[0mappend\u001b[0m\u001b[0;34m(\u001b[0m\u001b[0mp\u001b[0m\u001b[0;34m)\u001b[0m\u001b[0;34m\u001b[0m\u001b[0m\n\u001b[0;32m----> 8\u001b[0;31m         \u001b[0mnumbers\u001b[0m\u001b[0;34m.\u001b[0m\u001b[0mdifference_update\u001b[0m\u001b[0;34m(\u001b[0m\u001b[0mset\u001b[0m\u001b[0;34m(\u001b[0m\u001b[0mrange\u001b[0m\u001b[0;34m(\u001b[0m\u001b[0mp\u001b[0m\u001b[0;34m*\u001b[0m\u001b[0;36m2\u001b[0m\u001b[0;34m,\u001b[0m \u001b[0mn\u001b[0m\u001b[0;34m+\u001b[0m\u001b[0;36m1\u001b[0m\u001b[0;34m,\u001b[0m \u001b[0mp\u001b[0m\u001b[0;34m)\u001b[0m\u001b[0;34m)\u001b[0m\u001b[0;34m)\u001b[0m\u001b[0;34m\u001b[0m\u001b[0m\n\u001b[0m\u001b[1;32m      9\u001b[0m     \u001b[0;32mreturn\u001b[0m \u001b[0mprimes\u001b[0m\u001b[0;34m\u001b[0m\u001b[0m\n\u001b[1;32m     10\u001b[0m \u001b[0;34m\u001b[0m\u001b[0m\n",
      "\u001b[0;31mKeyboardInterrupt\u001b[0m: "
     ]
    }
   ],
   "source": [
    "#執行時間世界無敵長！！\n",
    "\n",
    "start = time.time()\n",
    "\n",
    "num = 1\n",
    "sum_ = 1\n",
    "\n",
    "while all_facts_num(sum_) <= 500:\n",
    "    num += 1\n",
    "    sum_ += num\n",
    "    #print(sum_)\n",
    "\n",
    "print(sum_)\n",
    "\n",
    "end = time.time()\n",
    "print('time:', end-start)"
   ]
  },
  {
   "cell_type": "code",
   "execution_count": 74,
   "metadata": {
    "collapsed": false
   },
   "outputs": [
    {
     "data": {
      "text/plain": [
       "3049215"
      ]
     },
     "execution_count": 74,
     "metadata": {},
     "output_type": "execute_result"
    }
   ],
   "source": [
    "sum_"
   ]
  },
  {
   "cell_type": "code",
   "execution_count": 75,
   "metadata": {
    "collapsed": false
   },
   "outputs": [
    {
     "data": {
      "text/plain": [
       "32"
      ]
     },
     "execution_count": 75,
     "metadata": {},
     "output_type": "execute_result"
    }
   ],
   "source": [
    "all_facts_num(sum_)"
   ]
  },
  {
   "cell_type": "markdown",
   "metadata": {
    "collapsed": true
   },
   "source": [
    "# 13. Large sum (V)"
   ]
  },
  {
   "cell_type": "code",
   "execution_count": 11,
   "metadata": {
    "collapsed": false
   },
   "outputs": [
    {
     "name": "stdout",
     "output_type": "stream",
     "text": [
      "5537376230\n",
      "time: 0.0012929439544677734\n"
     ]
    }
   ],
   "source": [
    "start = time.time()\n",
    "\n",
    "digits = open(\"digits.txt\", \"r\")\n",
    "lines = []\n",
    "\n",
    "for line in digits.readlines():             #依次读取每行  \n",
    "    line = line.strip()                     #去掉每行头尾空白  \n",
    "    lines.append(line)\n",
    "\n",
    "#print(lines)\n",
    "\n",
    "sum = 0\n",
    "for line in lines:\n",
    "    sum += int(line)\n",
    "    \n",
    "print(str(sum)[0:10])\n",
    "\n",
    "end = time.time()\n",
    "print('time:',end-start)"
   ]
  },
  {
   "cell_type": "markdown",
   "metadata": {},
   "source": [
    "# 14. Longest Collatz sequence (V)，但是約莫花了5分鐘"
   ]
  },
  {
   "cell_type": "code",
   "execution_count": 7,
   "metadata": {
    "collapsed": false
   },
   "outputs": [
    {
     "name": "stdout",
     "output_type": "stream",
     "text": [
      "40\n",
      "20.0\n",
      "10.0\n",
      "5.0\n",
      "16.0\n",
      "8.0\n",
      "4.0\n",
      "2.0\n",
      "[13, 40, 20.0, 10.0, 5.0, 16.0, 8.0, 4.0, 2.0, 1.0]\n",
      "10\n",
      "time: 0.0006501674652099609\n"
     ]
    }
   ],
   "source": [
    "start = time.time()\n",
    "\n",
    "def Collatz_seq(n):\n",
    "    if n == 1:\n",
    "        return 1\n",
    "    elif n%2 == 0:\n",
    "        return n/2\n",
    "    else:\n",
    "        return 3*n+1\n",
    "\n",
    "count = 1\n",
    "i = 13\n",
    "list = [i]\n",
    "while Collatz_seq(i) != 1:\n",
    "    list.append(Collatz_seq(i))\n",
    "    #print(Collatz_seq(i))\n",
    "    count += 1\n",
    "    i = Collatz_seq(i)\n",
    "    \n",
    "list.append(1.0)\n",
    "print(list)\n",
    "print(len(list))\n",
    "\n",
    "end = time.time()\n",
    "print('time:',end-start)"
   ]
  },
  {
   "cell_type": "code",
   "execution_count": 4,
   "metadata": {
    "collapsed": false
   },
   "outputs": [
    {
     "name": "stdout",
     "output_type": "stream",
     "text": [
      "837799 525\n",
      "time: 1508070804.293323\n"
     ]
    }
   ],
   "source": [
    "start = time.time()\n",
    "\n",
    "def Collatz_seq(n):\n",
    "    if n == 1:\n",
    "        return 1\n",
    "    elif n%2 == 0:\n",
    "        return n/2\n",
    "    else:\n",
    "        return 3*n+1\n",
    "\n",
    "n= 1000000\n",
    "dict_s_len = {}\n",
    "longest_i = 0\n",
    "longest_len = 1\n",
    "\n",
    "for i in range(5,n,1):\n",
    "    start = i\n",
    "    list_num = [i]\n",
    "    while Collatz_seq(i) != 1:\n",
    "        list_num.append(Collatz_seq(i))\n",
    "        i = Collatz_seq(i)\n",
    "    \n",
    "    if longest_len < (len(list_num)+1):\n",
    "        longest_len = len(list_num)+1\n",
    "        longest_i = start \n",
    "\n",
    "print(longest_i, longest_len)\n",
    "\n",
    "end = time.time()\n",
    "print('time:',end-start)"
   ]
  },
  {
   "cell_type": "markdown",
   "metadata": {
    "collapsed": false
   },
   "source": [
    "# 15. Lattice Path (V)"
   ]
  },
  {
   "cell_type": "code",
   "execution_count": 7,
   "metadata": {
    "collapsed": false
   },
   "outputs": [
    {
     "data": {
      "text/plain": [
       "137846528820.0"
      ]
     },
     "execution_count": 7,
     "metadata": {},
     "output_type": "execute_result"
    }
   ],
   "source": [
    "import math\n",
    "\n",
    "right = 20\n",
    "down = 20\n",
    "\n",
    "math.factorial(right+down)/ (math.factorial(right)*math.factorial(down))"
   ]
  },
  {
   "cell_type": "markdown",
   "metadata": {
    "collapsed": true
   },
   "source": [
    "# 16. Power digit Sum (V)"
   ]
  },
  {
   "cell_type": "code",
   "execution_count": 10,
   "metadata": {
    "collapsed": false
   },
   "outputs": [
    {
     "name": "stdout",
     "output_type": "stream",
     "text": [
      "1366\n"
     ]
    }
   ],
   "source": [
    "n = 1000\n",
    "\n",
    "digit_list = []\n",
    "for i in range(len(str(2**n))):\n",
    "    digit_list.append(int(str(2**n)[i]))\n",
    "    \n",
    "print(sum(digit_list))"
   ]
  },
  {
   "cell_type": "markdown",
   "metadata": {},
   "source": [
    "# 20. Factorial digit sum"
   ]
  },
  {
   "cell_type": "code",
   "execution_count": 11,
   "metadata": {
    "collapsed": false
   },
   "outputs": [
    {
     "name": "stdout",
     "output_type": "stream",
     "text": [
      "648\n"
     ]
    }
   ],
   "source": [
    "import math \n",
    "\n",
    "digit_list = []\n",
    "for i in range(len(str(math.factorial(100)))):\n",
    "    digit_list.append(int(str(math.factorial(100))[i]))\n",
    "    \n",
    "print(sum(digit_list))"
   ]
  },
  {
   "cell_type": "code",
   "execution_count": null,
   "metadata": {
    "collapsed": true
   },
   "outputs": [],
   "source": []
  }
 ],
 "metadata": {
  "anaconda-cloud": {},
  "kernelspec": {
   "display_name": "Python [default]",
   "language": "python",
   "name": "python3"
  },
  "language_info": {
   "codemirror_mode": {
    "name": "ipython",
    "version": 3
   },
   "file_extension": ".py",
   "mimetype": "text/x-python",
   "name": "python",
   "nbconvert_exporter": "python",
   "pygments_lexer": "ipython3",
   "version": "3.5.2"
  }
 },
 "nbformat": 4,
 "nbformat_minor": 2
}
